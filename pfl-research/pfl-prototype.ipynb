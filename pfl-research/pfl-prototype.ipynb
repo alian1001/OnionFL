{
 "cells": [
  {
   "cell_type": "markdown",
   "id": "a8a9a856-1e3b-47ee-a086-8dd2d84717f4",
   "metadata": {},
   "source": [
    "# Federated Learning Algorithm Prototype\n",
    "## PFL-Research Framework by Apple\n",
    "#### Alian Haidar ahaidar@apple.com\n",
    "\n",
    "Dataset Used: FLAIR "
   ]
  },
  {
   "cell_type": "markdown",
   "id": "ec452885-83ff-4f33-b404-a36c426c77fc",
   "metadata": {},
   "source": [
    "## Data Preparation"
   ]
  },
  {
   "cell_type": "code",
   "execution_count": 10,
   "id": "267fa5ce-4eb9-41d8-9273-09440882937d",
   "metadata": {},
   "outputs": [
    {
     "ename": "ModuleNotFoundError",
     "evalue": "No module named 'dataset'",
     "output_type": "error",
     "traceback": [
      "\u001b[0;31m---------------------------------------------------------------------------\u001b[0m",
      "\u001b[0;31mModuleNotFoundError\u001b[0m                       Traceback (most recent call last)",
      "Cell \u001b[0;32mIn[10], line 14\u001b[0m\n\u001b[1;32m     11\u001b[0m np\u001b[38;5;241m.\u001b[39mrandom\u001b[38;5;241m.\u001b[39mseed(\u001b[38;5;241m1\u001b[39m)\n\u001b[1;32m     13\u001b[0m \u001b[38;5;28;01mfrom\u001b[39;00m \u001b[38;5;21;01mpfl\u001b[39;00m\u001b[38;5;21;01m.\u001b[39;00m\u001b[38;5;21;01mmodel\u001b[39;00m\u001b[38;5;21;01m.\u001b[39;00m\u001b[38;5;21;01mpytorch\u001b[39;00m \u001b[38;5;28;01mimport\u001b[39;00m PyTorchModel\n\u001b[0;32m---> 14\u001b[0m \u001b[38;5;28;01mfrom\u001b[39;00m \u001b[38;5;21;01mdataset\u001b[39;00m\u001b[38;5;21;01m.\u001b[39;00m\u001b[38;5;21;01mflair\u001b[39;00m\u001b[38;5;21;01m.\u001b[39;00m\u001b[38;5;21;01mcommon\u001b[39;00m \u001b[38;5;28;01mimport\u001b[39;00m (get_multi_hot_targets, get_label_mapping, get_user_num_images)\n\u001b[1;32m     16\u001b[0m hdf5_path \u001b[38;5;241m=\u001b[39m \u001b[38;5;124m'\u001b[39m\u001b[38;5;124m../datasets/flairflair_federated_small.hdf5\u001b[39m\u001b[38;5;124m'\u001b[39m\n\u001b[1;32m     17\u001b[0m \u001b[38;5;66;03m# A dictionary mapping class name to an output index.\u001b[39;00m\n",
      "\u001b[0;31mModuleNotFoundError\u001b[0m: No module named 'dataset'"
     ]
    }
   ],
   "source": [
    "import matplotlib.pyplot as plt\n",
    "import h5py\n",
    "import numpy as np\n",
    "import pandas as pd\n",
    "import sys\n",
    "import torch\n",
    "import nest_asyncio\n",
    "\n",
    "nest_asyncio.apply()\n",
    "torch.random.manual_seed(1)\n",
    "np.random.seed(1)\n",
    "\n",
    "from pfl.model.pytorch import PyTorchModel\n",
    "from dataset.flair.common import (get_multi_hot_targets, get_label_mapping, get_user_num_images)\n",
    "\n",
    "hdf5_path = '../datasets/flairflair_federated_small.hdf5'\n",
    "# A dictionary mapping class name to an output index.\n",
    "classes = get_label_mapping(hdf5_path, use_fine_grained_labels=False)\n",
    "num_classes = len(classes)\n",
    "\n",
    "# A dictionary mapping each user id to number of images.\n",
    "user_num_images = get_user_num_images(hdf5_path, 'train')\n",
    "user_ids = sorted(list(user_num_images.keys()))\n",
    "\n",
    "display('Coarse grained classes in FLAIR:')\n",
    "display((classes))\n",
    "display('User dataset sizes statistics')\n",
    "display(pd.Series(user_num_images.values()).describe().apply(\"{0:.1f}\".format))"
   ]
  }
 ],
 "metadata": {
  "kernelspec": {
   "display_name": "Python 3 (ipykernel)",
   "language": "python",
   "name": "python3"
  },
  "language_info": {
   "codemirror_mode": {
    "name": "ipython",
    "version": 3
   },
   "file_extension": ".py",
   "mimetype": "text/x-python",
   "name": "python",
   "nbconvert_exporter": "python",
   "pygments_lexer": "ipython3",
   "version": "3.10.13"
  }
 },
 "nbformat": 4,
 "nbformat_minor": 5
}
