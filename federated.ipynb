{
 "cells": [
  {
   "cell_type": "code",
   "execution_count": 1,
   "id": "b9908701-0dbb-4521-9b38-bbd101f2c516",
   "metadata": {},
   "outputs": [],
   "source": [
    "import numpy as np"
   ]
  },
  {
   "cell_type": "code",
   "execution_count": 2,
   "id": "50284b52-f24c-48a7-aa74-7ef4fc74a139",
   "metadata": {},
   "outputs": [
    {
     "name": "stdout",
     "output_type": "stream",
     "text": [
      "Updated model weights: [0.04158982 0.10762628]\n",
      "Updated model bias: 0.00648580936314\n"
     ]
    }
   ],
   "source": [
    "# Define a simple model as a dictionary\n",
    "model = {'weights': np.array([0.0, 0.0]), 'bias': 0.0}\n",
    "\n",
    "# Fake data for our nodes (inputs and labels)\n",
    "node_data = [\n",
    "    (np.array([[1, 2], [2, 3]]), np.array([0, 1])),\n",
    "    (np.array([[1, 5], [1, -1]]), np.array([1, 0])),\n",
    "    (np.array([[3, 2], [3, 3]]), np.array([0, 1])),\n",
    "    (np.array([[2, 4], [4, 1]]), np.array([1, 0])),\n",
    "]\n",
    "\n",
    "# A simple function to simulate training on nodes\n",
    "def train_on_node(data, model):\n",
    "    inputs, labels = data\n",
    "    weights, bias = model['weights'], model['bias']\n",
    "    \n",
    "    # A dummy gradient descent step for a single epoch\n",
    "    for input, label in zip(inputs, labels):\n",
    "        output = np.dot(input, weights) + bias\n",
    "        error = output - label\n",
    "        weights -= 0.01 * error * input  # update weights\n",
    "        bias -= 0.01 * error  # update bias\n",
    "    \n",
    "    return {'weights': weights, 'bias': bias}\n",
    "\n",
    "# Simulate federated learning\n",
    "def federated_learning(model, data):\n",
    "    new_weights = []\n",
    "    new_biases = []\n",
    "    \n",
    "    # Each node trains on its data\n",
    "    for node in data:\n",
    "        node_model = train_on_node(node, model)\n",
    "        new_weights.append(node_model['weights'])\n",
    "        new_biases.append(node_model['bias'])\n",
    "    \n",
    "    # The server aggregates the updates (averages the weights)\n",
    "    model['weights'] = np.mean(new_weights, axis=0)\n",
    "    model['bias'] = np.mean(new_biases, axis=0)\n",
    "    return model\n",
    "\n",
    "# Run federated learning\n",
    "updated_model = federated_learning(model, node_data)\n",
    "\n",
    "print(\"Updated model weights:\", updated_model['weights'])\n",
    "print(\"Updated model bias:\", updated_model['bias'])\n"
   ]
  }
 ],
 "metadata": {
  "kernelspec": {
   "display_name": "Python 3 (ipykernel)",
   "language": "python",
   "name": "python3"
  },
  "language_info": {
   "codemirror_mode": {
    "name": "ipython",
    "version": 3
   },
   "file_extension": ".py",
   "mimetype": "text/x-python",
   "name": "python",
   "nbconvert_exporter": "python",
   "pygments_lexer": "ipython3",
   "version": "3.12.2"
  }
 },
 "nbformat": 4,
 "nbformat_minor": 5
}
